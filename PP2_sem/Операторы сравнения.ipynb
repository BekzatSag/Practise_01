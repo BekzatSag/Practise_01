{
 "cells": [
  {
   "cell_type": "markdown",
   "metadata": {},
   "source": [
    "### Основы: Операторы сравнения & логические операторы [Домашнее задание]\n",
    "\n",
    "Практика использования операторов сравнения & логических операторов."
   ]
  },
  {
   "cell_type": "code",
   "execution_count": 1,
   "metadata": {},
   "outputs": [],
   "source": [
    "num1 = 15\n",
    "num2 = 15.0\n",
    "num3 = 13\n",
    "str1 = \"brad\"\n",
    "str2 = \"BRAD\"\n",
    "str3 = \"Hello World\""
   ]
  },
  {
   "cell_type": "markdown",
   "metadata": {},
   "source": [
    "### Каковы результаты следующих строк кода?\n",
    "```\n",
    "print(num1 > num2)\n",
    "print(num2 >= num3)\n",
    "print(num1 == num3)\n",
    "\n",
    "print(str1 == str2)\n",
    "print(str1 > str2)\n",
    "print(str3 < str2)\n",
    "\n",
    "print(num1 < num2 or num2 > num3)\n",
    "print(num1 < num2 or str1 > str3)\n",
    "print(num1 <= num2 >= num3)\n",
    "\n",
    "print(False or False or False or True)\n",
    "print((False or True) and False)\n",
    "print(True and num1 <= num2)\n",
    "print(not num1 >= num2 or str1 == str2)\n",
    "```"
   ]
  },
  {
   "cell_type": "markdown",
   "metadata": {},
   "source": [
    "Теперь скопируйте код и выведите результаты этих операций.\n",
    "Результаты совпадают с вашими прогнозами?"
   ]
  },
  {
   "cell_type": "code",
   "execution_count": 9,
   "metadata": {},
   "outputs": [
    {
     "name": "stdout",
     "output_type": "stream",
     "text": [
      "False\n",
      "True\n",
      "False\n",
      "False\n",
      "True\n",
      "False\n",
      "True\n",
      "True\n",
      "True\n",
      "True\n",
      "False\n",
      "True\n",
      "False\n"
     ]
    }
   ],
   "source": [
    "# Начало вашего кода \n",
    "### Каковы результаты следующих строк кода?\n",
    "num1 = 15 \n",
    "num2 = 15.0\n",
    "num3 = 13\n",
    "str1 = \"brad\"\n",
    "str2 = \"BRAD\"\n",
    "str3 = \"Hello World\"\n",
    "print(num1 > num2) # 15 = 15.0\n",
    "print(num2 >= num3) # 15.0 > 15.0\n",
    "print(num1 == num3) # 15 is not equal to 13\n",
    "\n",
    "print(str1 == str2) # it compares two strings(each letters) by ASCII table, first element 'b' in ASCII is 98, but first element 'B' in ASCII is 66. 98 != 66\n",
    "print(str1 > str2) # it compares two strings(each letters) by ASCII table, first element 'b' in ASCII is 98, but first element 'B' in ASCII is 66. 98 > 66\n",
    "print(str3 < str2) # it compares two strings(each letters) by ASCII table, first element 'b' in ASCII is 98, but first element 'B' in ASCII is 66. 98 < 66\n",
    "\n",
    "print(num1 < num2 or num2 > num3) # (15 < 15.0) or (15.0 > 13) -> first part gives False (they are equal) second part gives True. Using boolean algebra we understand that False or True = 0 or 1 = 1 = True \n",
    "print(num1 < num2 or str1 > str3) # (15 < 15.0) or (\"brad\" > \"Hello World!\") -> first part gives False (they are equal) second part gives True (H - 72, b - 98. (98 > 72)). Using boolean algebra we understand that False or True = 0 or 1 = 1\n",
    "print(num1 <= num2 >= num3) # (15 <= 15.0) and (15.0 >= 13) -> (True) and (True) = True\n",
    "\n",
    "print(False or False or False or True) #we will use boolean algebra. 0 or 0 or 0 or 1 = 1 = True\n",
    "print((False or True) and False) # (0 or 1) and 0 = 0 = False\n",
    "print(True and num1 <= num2) # 1 and (15 <= 15.0) -> 1 and 1 = 1 = True\n",
    "print(not num1 >= num2 or str1 == str2) # not (15>=15.0) or (\"brad\"==\"BRAD\") -> not True or False = False or False = False \n",
    "# Конец вашего кода"
   ]
  },
  {
   "cell_type": "markdown",
   "metadata": {},
   "source": [
    "### Ожидаемые результаты:\n",
    "```\n",
    "False\n",
    "True\n",
    "False\n",
    "False\n",
    "True\n",
    "False\n",
    "True\n",
    "True\n",
    "True\n",
    "True\n",
    "False\n",
    "True\n",
    "False\n",
    "```"
   ]
  },
  {
   "cell_type": "markdown",
   "metadata": {},
   "source": [
    "**Дополнительный вопрос: Как работают операторы сравнения на строках (strings)?**"
   ]
  }
 ],
 "metadata": {
  "kernelspec": {
   "display_name": "base",
   "language": "python",
   "name": "python3"
  },
  "language_info": {
   "codemirror_mode": {
    "name": "ipython",
    "version": 3
   },
   "file_extension": ".py",
   "mimetype": "text/x-python",
   "name": "python",
   "nbconvert_exporter": "python",
   "pygments_lexer": "ipython3",
   "version": "3.12.7"
  }
 },
 "nbformat": 4,
 "nbformat_minor": 2
}
